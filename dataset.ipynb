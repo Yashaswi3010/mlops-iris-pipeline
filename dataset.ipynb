{
 "cells": [
  {
   "cell_type": "code",
   "execution_count": 1,
   "id": "6adf4604",
   "metadata": {},
   "outputs": [
    {
     "name": "stdout",
     "output_type": "stream",
     "text": [
      "--- Preprocessing Data ---\n",
      "Dataset saved to data\\raw\\iris.csv\n",
      "--- Preprocessing Complete ---\n"
     ]
    }
   ],
   "source": [
    "# scripts/preprocess.py\n",
    "import pandas as pd\n",
    "from sklearn.datasets import load_iris\n",
    "from pathlib import Path\n",
    "\n",
    "def main():\n",
    "    \"\"\"Fetches the Iris dataset and saves it to the data/raw directory.\"\"\"\n",
    "    print(\"--- Preprocessing Data ---\")\n",
    "\n",
    "    # Define paths\n",
    "    raw_data_path = Path(\"data/raw\")\n",
    "    raw_data_path.mkdir(parents=True, exist_ok=True)\n",
    "\n",
    "    # Load Iris dataset from sklearn\n",
    "    iris = load_iris()\n",
    "    iris_df = pd.DataFrame(data=iris.data, columns=iris.feature_names)\n",
    "    iris_df['target'] = iris.target\n",
    "\n",
    "    # Save to csv\n",
    "    iris_df.to_csv(raw_data_path / \"iris.csv\", index=False)\n",
    "\n",
    "    print(f\"Dataset saved to {raw_data_path / 'iris.csv'}\")\n",
    "    print(\"--- Preprocessing Complete ---\")\n",
    "\n",
    "if __name__ == '__main__':\n",
    "    main()"
   ]
  },
  {
   "cell_type": "code",
   "execution_count": null,
   "id": "d07e4cd8",
   "metadata": {},
   "outputs": [],
   "source": []
  }
 ],
 "metadata": {
  "kernelspec": {
   "display_name": "base",
   "language": "python",
   "name": "python3"
  },
  "language_info": {
   "codemirror_mode": {
    "name": "ipython",
    "version": 3
   },
   "file_extension": ".py",
   "mimetype": "text/x-python",
   "name": "python",
   "nbconvert_exporter": "python",
   "pygments_lexer": "ipython3",
   "version": "3.11.7"
  }
 },
 "nbformat": 4,
 "nbformat_minor": 5
}
